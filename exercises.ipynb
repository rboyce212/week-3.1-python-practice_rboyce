{
 "cells": [
  {
   "cell_type": "markdown",
   "metadata": {},
   "source": [
    "# Python Exercises\n",
    "\n",
    "### Exercise 1: Simple function\n",
    "\n",
    "Create a function called `greet` that takes a name as an argument and returns a greeting string saying \"Hello\" and using the given name.\n"
   ]
  },
  {
   "cell_type": "code",
   "execution_count": 1,
   "metadata": {},
   "outputs": [
    {
     "name": "stdout",
     "output_type": "stream",
     "text": [
      "Hello, Alice!\n"
     ]
    }
   ],
   "source": [
    "\n",
    "# Your Code Here\n",
    "def greet(name):\n",
    "    print(f'Hello, {name}!')\n",
    "# Uncomment the invoked functions to Test\n",
    "greet(\"Alice\")\n",
    "# Should return \"Hello, Alice!\"\n"
   ]
  },
  {
   "cell_type": "markdown",
   "metadata": {},
   "source": [
    "### Exercise 2: Function with if-else\n",
    "\n",
    "Create a function called `check_even_odd` that takes a number as an argument and returns \"Even\" if the number is even, and \"Odd\" if it's odd.\n",
    "\n",
    "\n"
   ]
  },
  {
   "cell_type": "code",
   "execution_count": 2,
   "metadata": {},
   "outputs": [
    {
     "name": "stdout",
     "output_type": "stream",
     "text": [
      "Even\n",
      "Odd\n"
     ]
    }
   ],
   "source": [
    "# Your Code Here\n",
    "def check_even_odd(number):\n",
    "    if number % 2 == 0:\n",
    "        print (\"Even\")\n",
    "    else:\n",
    "        print (\"Odd\")    \n",
    "# Uncomment the invoked functions to Test\n",
    "check_even_odd(4)  \n",
    "# Should return \"Even\"\n",
    "\n",
    "check_even_odd(7)  \n",
    "# Should return \"Odd\""
   ]
  },
  {
   "cell_type": "markdown",
   "metadata": {},
   "source": [
    "### Exercise 3: Function with multiple conditions\n",
    "\n",
    "Create a function called `grade_scorer` that takes a score (0-100) as an argument and returns the corresponding letter grade: \"A\" for 90-100, \"B\" for 80-89, \"C\" for 70-79, \"D\" for 60-69, and \"F\" for below 60.\n",
    "\n",
    "\n",
    "\n"
   ]
  },
  {
   "cell_type": "code",
   "execution_count": 3,
   "metadata": {},
   "outputs": [
    {
     "name": "stdout",
     "output_type": "stream",
     "text": [
      "A\n",
      "B\n",
      "C\n",
      "D\n"
     ]
    }
   ],
   "source": [
    "# Your Code Here\n",
    "def grade_scorer (score):\n",
    "    if score < 60:\n",
    "        print (\"F\")\n",
    "    elif score < 70:\n",
    "        print (\"D\")\n",
    "    elif score < 80:\n",
    "        print (\"C\")\n",
    "    elif score < 90:\n",
    "        print (\"B\")\n",
    "    else:\n",
    "        print (\"A\")\n",
    "    \n",
    "    \n",
    "# Uncomment the invoked functions to Test\n",
    "grade_scorer(95)  \n",
    "# Should return \"A\"\n",
    "\n",
    "grade_scorer(83)  \n",
    "# Should return \"B\"\n",
    "\n",
    "grade_scorer(72) \n",
    "# Should return \"C\"\n",
    "\n",
    "grade_scorer(65) \n",
    "# Should return \"D\"\n"
   ]
  },
  {
   "cell_type": "markdown",
   "metadata": {},
   "source": [
    "### Exercise 4: Function using logical operators\n",
    "\n",
    "Create a function called `login_check` that takes a username and password as arguments. Return True if the username is \"admin\" and the password is \"12345\", False otherwise.\n",
    "\n",
    "\n",
    "\n"
   ]
  },
  {
   "cell_type": "code",
   "execution_count": 4,
   "metadata": {},
   "outputs": [
    {
     "name": "stdout",
     "output_type": "stream",
     "text": [
      "True\n",
      "False\n"
     ]
    }
   ],
   "source": [
    "# Your Code Here\n",
    "def login_check (username, password):\n",
    "    if username == \"admin\" and password == \"12345\":\n",
    "        print (\"True\")\n",
    "    else: \n",
    "        print (\"False\")\n",
    "# Uncomment the invoked functions to Test\n",
    "login_check(\"admin\", \"12345\") \n",
    "# Should return True\n",
    "\n",
    "login_check(\"user\", \"pass\") \n",
    "# Should return False\n"
   ]
  },
  {
   "cell_type": "markdown",
   "metadata": {},
   "source": [
    "### Exercise 5: Function with nested if statements\n",
    "\n",
    "Create a function called `number_description` that takes a number as an argument and returns \"Positive even\" for positive even numbers, \"Positive odd\" for positive odd numbers, \"Negative\" for negative numbers, and \"Zero\" for 0.\n",
    "\n",
    "\n",
    "\n"
   ]
  },
  {
   "cell_type": "code",
   "execution_count": 5,
   "metadata": {},
   "outputs": [
    {
     "name": "stdout",
     "output_type": "stream",
     "text": [
      "Positive Even\n",
      "Positive Odd\n",
      "Negative\n",
      "Zero\n"
     ]
    }
   ],
   "source": [
    "# Your Code Here\n",
    "def number_description (num):\n",
    "    if num < 0:\n",
    "        print (\"Negative\")\n",
    "    elif num == 0:\n",
    "        print (\"Zero\")\n",
    "    elif num > 0 and num % 2 == 0:\n",
    "        print (\"Positive Even\")\n",
    "    else:\n",
    "        print (\"Positive Odd\")\n",
    "# Uncomment the invoked functions to Test\n",
    "number_description(4)  \n",
    "# Should return \"Positive even\"\n",
    "\n",
    "number_description(7)  \n",
    "# Should return \"Positive odd\"\n",
    "\n",
    "number_description(-3) \n",
    "# Should return \"Negative\"\n",
    "\n",
    "number_description(0)  \n",
    "# Should return \"Zero\"\n"
   ]
  },
  {
   "cell_type": "markdown",
   "metadata": {},
   "source": [
    "### Exercise 6: Function comparing Python to JavaScript syntax\n",
    "Rewrite the following JavaScript function in Python:\n",
    "\n",
    "```javascript\n",
    "function jsComparison(x, y) {\n",
    "    if (x === y) {\n",
    "        return \"Equal\";\n",
    "    } else if (x > y) {\n",
    "        return \"Greater\";\n",
    "    } else {\n",
    "        return \"Less\";\n",
    "    }\n",
    "}\n",
    "```\n",
    "\n",
    "\n",
    "\n"
   ]
  },
  {
   "cell_type": "code",
   "execution_count": 6,
   "metadata": {},
   "outputs": [
    {
     "name": "stdout",
     "output_type": "stream",
     "text": [
      "Equal\n",
      "Greater\n",
      "Less\n"
     ]
    }
   ],
   "source": [
    "# Your Code Here\n",
    "def js_comparison (x, y):\n",
    "    if x == y:\n",
    "        print (\"Equal\")\n",
    "    elif x > y:\n",
    "        print (\"Greater\")\n",
    "    else: \n",
    "        print (\"Less\")\n",
    "# Uncomment the invoked functions to Test\n",
    "js_comparison(5, 5)\n",
    "# Should return \"Equal\"\n",
    "\n",
    "js_comparison(10, 5) \n",
    "# Should return \"Greater\"\n",
    "\n",
    "js_comparison(3, 8) \n",
    "# Should return \"Less\""
   ]
  },
  {
   "cell_type": "markdown",
   "metadata": {},
   "source": [
    "### Exercise 7: Function using 'and' operator\n",
    "Create a function called `is_valid_triangle` that takes three side lengths as arguments and returns True if they can form a valid triangle (sum of any two sides > third side), False otherwise.\n",
    "\n",
    "\n",
    "\n",
    "\n"
   ]
  },
  {
   "cell_type": "code",
   "execution_count": 9,
   "metadata": {},
   "outputs": [
    {
     "name": "stdout",
     "output_type": "stream",
     "text": [
      "True\n",
      "False\n"
     ]
    }
   ],
   "source": [
    "# Your Code Here\n",
    "def is_valid_triangle (side_1, side_2, side_3):\n",
    "    if side_1 + side_2 > side_3 and side_2 + side_3 > side_1 and side_3 + side_1 > side_2:\n",
    "        print (\"True\")\n",
    "    else:\n",
    "        print (\"False\")\n",
    "# Uncomment the invoked functions to Test\n",
    "is_valid_triangle(3, 4, 5)\n",
    "# Should return True\n",
    "\n",
    "is_valid_triangle(1, 1, 2)  \n",
    "# Should return False"
   ]
  },
  {
   "cell_type": "markdown",
   "metadata": {},
   "source": [
    "### Exercise 8: Function using 'or' operator\n",
    "\n",
    "Create a function called `can_vote` that takes age and citizenship as arguments. Return True if age is 18 or above AND citizenship is \"USA\" or \"Canada\", False otherwise.\n"
   ]
  },
  {
   "cell_type": "code",
   "execution_count": 10,
   "metadata": {},
   "outputs": [
    {
     "name": "stdout",
     "output_type": "stream",
     "text": [
      "True\n",
      "False\n"
     ]
    }
   ],
   "source": [
    "# Your Code Here\n",
    "def can_vote (age, citizenship):\n",
    "    if age >= 18 and ((citizenship == \"USA\") or (citizenship == \"Canada\")):\n",
    "        print (\"True\")\n",
    "    else: \n",
    "        print (\"False\")\n",
    "# Uncomment the invoked functions to Test\n",
    "can_vote(20, \"USA\")  \n",
    "# Should return True\n",
    "\n",
    "can_vote(16, \"Canada\")  \n",
    "# Should return False\n"
   ]
  },
  {
   "cell_type": "markdown",
   "metadata": {},
   "source": [
    "### Exercise 9: Function using 'not' operator\n",
    "Create a function called `is_not_in_range` that takes three arguments: num, start, and end. Return True if num is NOT between start and end (inclusive), False otherwise.\n",
    "\n",
    "\n",
    "\n"
   ]
  },
  {
   "cell_type": "code",
   "execution_count": 11,
   "metadata": {},
   "outputs": [
    {
     "name": "stdout",
     "output_type": "stream",
     "text": [
      "False\n",
      "True\n"
     ]
    }
   ],
   "source": [
    "\n",
    "# Your Code Here\n",
    "def is_not_in_range (num, start, end):\n",
    "    if start <= num <= end:\n",
    "        print (\"False\")\n",
    "    else:\n",
    "        print (\"True\")\n",
    "# Uncomment the invoked functions to Test\n",
    "is_not_in_range(3, 2, 4) \n",
    "# Should return False\n",
    "\n",
    "is_not_in_range(10, 2, 8)  \n",
    "# Should return True\n"
   ]
  },
  {
   "cell_type": "markdown",
   "metadata": {},
   "source": [
    "### Exercise 10: Function combining multiple concepts\n",
    "\n",
    "Create a function called `calculate_ticket_price` that takes age, day, and is_student as arguments. Calculate the ticket price based on these rules:\n",
    "- Base price is $10\n",
    "- If it's a weekend (day is \"Saturday\" or \"Sunday\"), add $5\n",
    "- If age is under 18 or over 65, apply a 20% discount\n",
    "- If is_student is True and it's not a weekend, apply a 10% discount\n",
    "Return the final ticket price.\n"
   ]
  },
  {
   "cell_type": "code",
   "execution_count": 13,
   "metadata": {},
   "outputs": [
    {
     "name": "stdout",
     "output_type": "stream",
     "text": [
      "$9.00\n",
      "$12.00\n"
     ]
    }
   ],
   "source": [
    "# Your Code Here\n",
    "def calculate_ticket_price (age, day, is_student):\n",
    "    base_price = 10\n",
    "    \n",
    "    if day == \"Saturday\" or day == \"Sunday\":\n",
    "        base_price += 5\n",
    "    if age < 18 or age > 65:\n",
    "        base_price -= base_price * 0.2\n",
    "    if is_student == True and (day != \"Saturday\" and day != \"Sunday\"):\n",
    "        base_price -= base_price * 0.1\n",
    "    print (f'$' \"%.2f\" % base_price)\n",
    "\n",
    "\n",
    "# Uncomment the invoked functions to Test\n",
    "calculate_ticket_price(25, \"Monday\", True)\n",
    "# Should return $9.00\n",
    "\n",
    "calculate_ticket_price(70, \"Sunday\", False)\n",
    "# Should return $15.00 \n",
    "# This should be $12, no? because it's $10 + $5 - 20%???\n"
   ]
  }
 ],
 "metadata": {
  "kernelspec": {
   "display_name": "venv",
   "language": "python",
   "name": "python3"
  },
  "language_info": {
   "codemirror_mode": {
    "name": "ipython",
    "version": 3
   },
   "file_extension": ".py",
   "mimetype": "text/x-python",
   "name": "python",
   "nbconvert_exporter": "python",
   "pygments_lexer": "ipython3",
   "version": "3.12.7"
  }
 },
 "nbformat": 4,
 "nbformat_minor": 2
}
